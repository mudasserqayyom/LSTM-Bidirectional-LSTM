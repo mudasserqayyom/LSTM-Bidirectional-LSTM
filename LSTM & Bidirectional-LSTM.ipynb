{
 "cells": [
  {
   "cell_type": "code",
   "execution_count": 1,
   "id": "0813873a-2f51-4e97-ba68-ddc95417cb4d",
   "metadata": {},
   "outputs": [],
   "source": [
    "import numpy as np\n",
    "import pandas as pd\n",
    "import matplotlib.pyplot as plt\n",
    "import seaborn as sb"
   ]
  },
  {
   "cell_type": "code",
   "execution_count": 2,
   "id": "8f2a929a-3496-4832-84b6-c96b4ccb6414",
   "metadata": {},
   "outputs": [],
   "source": [
    "df = pd.read_csv(r'C:\\Users\\Mudasser.Qayyom\\Downloads\\LSTM_P\\LSTM_P - Copy\\text12.csv')"
   ]
  },
  {
   "cell_type": "code",
   "execution_count": 3,
   "id": "c953acda-873d-459a-ba56-9abcf820a09e",
   "metadata": {},
   "outputs": [
    {
     "data": {
      "text/html": [
       "<div>\n",
       "<style scoped>\n",
       "    .dataframe tbody tr th:only-of-type {\n",
       "        vertical-align: middle;\n",
       "    }\n",
       "\n",
       "    .dataframe tbody tr th {\n",
       "        vertical-align: top;\n",
       "    }\n",
       "\n",
       "    .dataframe thead th {\n",
       "        text-align: right;\n",
       "    }\n",
       "</style>\n",
       "<table border=\"1\" class=\"dataframe\">\n",
       "  <thead>\n",
       "    <tr style=\"text-align: right;\">\n",
       "      <th></th>\n",
       "      <th>Unnamed: 0</th>\n",
       "      <th>text</th>\n",
       "      <th>label</th>\n",
       "    </tr>\n",
       "  </thead>\n",
       "  <tbody>\n",
       "    <tr>\n",
       "      <th>0</th>\n",
       "      <td>0</td>\n",
       "      <td>i just feel really helpless and heavy hearted</td>\n",
       "      <td>4</td>\n",
       "    </tr>\n",
       "    <tr>\n",
       "      <th>1</th>\n",
       "      <td>2</td>\n",
       "      <td>i gave up my internship with the dmrg and am f...</td>\n",
       "      <td>4</td>\n",
       "    </tr>\n",
       "    <tr>\n",
       "      <th>2</th>\n",
       "      <td>4</td>\n",
       "      <td>i am a kindergarten teacher and i am thoroughl...</td>\n",
       "      <td>4</td>\n",
       "    </tr>\n",
       "    <tr>\n",
       "      <th>3</th>\n",
       "      <td>6</td>\n",
       "      <td>i would think that whomever would be lucky eno...</td>\n",
       "      <td>2</td>\n",
       "    </tr>\n",
       "    <tr>\n",
       "      <th>4</th>\n",
       "      <td>8</td>\n",
       "      <td>im forever taking some time out to have a lie ...</td>\n",
       "      <td>5</td>\n",
       "    </tr>\n",
       "  </tbody>\n",
       "</table>\n",
       "</div>"
      ],
      "text/plain": [
       "   Unnamed: 0                                               text  label\n",
       "0           0      i just feel really helpless and heavy hearted      4\n",
       "1           2  i gave up my internship with the dmrg and am f...      4\n",
       "2           4  i am a kindergarten teacher and i am thoroughl...      4\n",
       "3           6  i would think that whomever would be lucky eno...      2\n",
       "4           8  im forever taking some time out to have a lie ...      5"
      ]
     },
     "execution_count": 3,
     "metadata": {},
     "output_type": "execute_result"
    }
   ],
   "source": [
    "df.head()"
   ]
  },
  {
   "cell_type": "code",
   "execution_count": 4,
   "id": "815d2d81-2d95-4cfe-9810-9cb081a548db",
   "metadata": {},
   "outputs": [],
   "source": [
    "df = df.drop(['Unnamed: 0'], axis=1)"
   ]
  },
  {
   "cell_type": "code",
   "execution_count": 5,
   "id": "b1f4810b-1f53-40c9-b7f3-8a462e3333b4",
   "metadata": {},
   "outputs": [
    {
     "data": {
      "text/html": [
       "<div>\n",
       "<style scoped>\n",
       "    .dataframe tbody tr th:only-of-type {\n",
       "        vertical-align: middle;\n",
       "    }\n",
       "\n",
       "    .dataframe tbody tr th {\n",
       "        vertical-align: top;\n",
       "    }\n",
       "\n",
       "    .dataframe thead th {\n",
       "        text-align: right;\n",
       "    }\n",
       "</style>\n",
       "<table border=\"1\" class=\"dataframe\">\n",
       "  <thead>\n",
       "    <tr style=\"text-align: right;\">\n",
       "      <th></th>\n",
       "      <th>text</th>\n",
       "      <th>label</th>\n",
       "    </tr>\n",
       "  </thead>\n",
       "  <tbody>\n",
       "    <tr>\n",
       "      <th>0</th>\n",
       "      <td>i just feel really helpless and heavy hearted</td>\n",
       "      <td>4</td>\n",
       "    </tr>\n",
       "    <tr>\n",
       "      <th>1</th>\n",
       "      <td>i gave up my internship with the dmrg and am f...</td>\n",
       "      <td>4</td>\n",
       "    </tr>\n",
       "    <tr>\n",
       "      <th>2</th>\n",
       "      <td>i am a kindergarten teacher and i am thoroughl...</td>\n",
       "      <td>4</td>\n",
       "    </tr>\n",
       "    <tr>\n",
       "      <th>3</th>\n",
       "      <td>i would think that whomever would be lucky eno...</td>\n",
       "      <td>2</td>\n",
       "    </tr>\n",
       "    <tr>\n",
       "      <th>4</th>\n",
       "      <td>im forever taking some time out to have a lie ...</td>\n",
       "      <td>5</td>\n",
       "    </tr>\n",
       "    <tr>\n",
       "      <th>...</th>\n",
       "      <td>...</td>\n",
       "      <td>...</td>\n",
       "    </tr>\n",
       "    <tr>\n",
       "      <th>90110</th>\n",
       "      <td>i feel my restless heart breathe settled firml...</td>\n",
       "      <td>4</td>\n",
       "    </tr>\n",
       "    <tr>\n",
       "      <th>90111</th>\n",
       "      <td>i could feel the cd was not impressed and frus...</td>\n",
       "      <td>5</td>\n",
       "    </tr>\n",
       "    <tr>\n",
       "      <th>90112</th>\n",
       "      <td>i feel what i would have missed had i not had you</td>\n",
       "      <td>0</td>\n",
       "    </tr>\n",
       "    <tr>\n",
       "      <th>90113</th>\n",
       "      <td>being mistreated by my former primary school t...</td>\n",
       "      <td>3</td>\n",
       "    </tr>\n",
       "    <tr>\n",
       "      <th>90114</th>\n",
       "      <td>i does not feel pressured to offer trite or fo...</td>\n",
       "      <td>4</td>\n",
       "    </tr>\n",
       "  </tbody>\n",
       "</table>\n",
       "<p>90115 rows × 2 columns</p>\n",
       "</div>"
      ],
      "text/plain": [
       "                                                    text  label\n",
       "0          i just feel really helpless and heavy hearted      4\n",
       "1      i gave up my internship with the dmrg and am f...      4\n",
       "2      i am a kindergarten teacher and i am thoroughl...      4\n",
       "3      i would think that whomever would be lucky eno...      2\n",
       "4      im forever taking some time out to have a lie ...      5\n",
       "...                                                  ...    ...\n",
       "90110  i feel my restless heart breathe settled firml...      4\n",
       "90111  i could feel the cd was not impressed and frus...      5\n",
       "90112  i feel what i would have missed had i not had you      0\n",
       "90113  being mistreated by my former primary school t...      3\n",
       "90114  i does not feel pressured to offer trite or fo...      4\n",
       "\n",
       "[90115 rows x 2 columns]"
      ]
     },
     "execution_count": 5,
     "metadata": {},
     "output_type": "execute_result"
    }
   ],
   "source": [
    "df"
   ]
  },
  {
   "cell_type": "code",
   "execution_count": 6,
   "id": "8ecae33b-a5b6-4ea3-9b7b-a3e631dd8c84",
   "metadata": {},
   "outputs": [
    {
     "data": {
      "text/plain": [
       "array([4, 2, 5, 3, 1, 0], dtype=int64)"
      ]
     },
     "execution_count": 6,
     "metadata": {},
     "output_type": "execute_result"
    }
   ],
   "source": [
    "unique_sentiment = df['label'].unique()\n",
    "unique_sentiment"
   ]
  },
  {
   "cell_type": "code",
   "execution_count": 7,
   "id": "691f0bb1-2eea-4d6f-961f-1f9af1ffdb00",
   "metadata": {},
   "outputs": [
    {
     "data": {
      "image/png": "[encoded data removed]",
      "text/plain": [
       "<Figure size 640x480 with 1 Axes>"
      ]
     },
     "metadata": {},
     "output_type": "display_data"
    }
   ],
   "source": [
    "# Count Plot: Visualizes sentiment distribution in the dataset.\n",
    "\n",
    "sb.countplot(x = 'label', data = df)\n",
    "plt.title('Sentiment Distribution')\n",
    "plt.xlabel('Sentiment')\n",
    "plt.ylabel('Count of Reviews')\n",
    "plt.show()"
   ]
  },
  {
   "cell_type": "code",
   "execution_count": 8,
   "id": "bd65cd2f-2fed-4fcd-87de-75f201f37be3",
   "metadata": {},
   "outputs": [
    {
     "name": "stdout",
     "output_type": "stream",
     "text": [
      "                                                    text  label\n",
      "0          i just feel really helpless and heavy hearted      4\n",
      "1      i gave up my internship with the dmrg and am f...      4\n",
      "2      i am a kindergarten teacher and i am thoroughl...      4\n",
      "3      i would think that whomever would be lucky eno...      2\n",
      "4      im forever taking some time out to have a lie ...      5\n",
      "...                                                  ...    ...\n",
      "90110  i feel my restless heart breathe settled firml...      4\n",
      "90111  i could feel the cd was not impressed and frus...      5\n",
      "90112  i feel what i would have missed had i not had you      0\n",
      "90113  being mistreated by my former primary school t...      3\n",
      "90114  i does not feel pressured to offer trite or fo...      4\n",
      "\n",
      "[79033 rows x 2 columns]\n"
     ]
    }
   ],
   "source": [
    "# Filter rows with 'sadness' (label == 0)\n",
    "sadness_records = df[df['label'] == 0]\n",
    "\n",
    "# Determine how many rows to delete (half the sadness records)\n",
    "n_to_delete = len(sadness_records) // 2\n",
    "\n",
    "# Randomly select rows to delete\n",
    "rows_to_delete = sadness_records.sample(n=n_to_delete, random_state=42)\n",
    "\n",
    "# Remove the selected rows from the original DataFrame\n",
    "df_filtered = df.drop(rows_to_delete.index)\n",
    "\n",
    "print(df_filtered)"
   ]
  },
  {
   "cell_type": "code",
   "execution_count": 9,
   "id": "22981583-fe8a-4a30-bdfe-a8c0fa7f8aba",
   "metadata": {},
   "outputs": [],
   "source": [
    "df = df_filtered"
   ]
  },
  {
   "cell_type": "code",
   "execution_count": 10,
   "id": "2ac30f7b-4fc3-4520-9425-6bfaa2ce7355",
   "metadata": {},
   "outputs": [
    {
     "name": "stdout",
     "output_type": "stream",
     "text": [
      "                                                    text  label\n",
      "0          i just feel really helpless and heavy hearted      4\n",
      "1      i gave up my internship with the dmrg and am f...      4\n",
      "2      i am a kindergarten teacher and i am thoroughl...      4\n",
      "3      i would think that whomever would be lucky eno...      2\n",
      "4      im forever taking some time out to have a lie ...      5\n",
      "...                                                  ...    ...\n",
      "90110  i feel my restless heart breathe settled firml...      4\n",
      "90111  i could feel the cd was not impressed and frus...      5\n",
      "90112  i feel what i would have missed had i not had you      0\n",
      "90113  being mistreated by my former primary school t...      3\n",
      "90114  i does not feel pressured to offer trite or fo...      4\n",
      "\n",
      "[64333 rows x 2 columns]\n"
     ]
    }
   ],
   "source": [
    "# Filter rows with 'sadness' (label == 1)\n",
    "joy_records = df[df['label'] == 1]\n",
    "\n",
    "# Determine how many rows to delete (half the sadness records)\n",
    "n_to_delete = len(joy_records) // 2\n",
    "\n",
    "# Randomly select rows to delete\n",
    "rows_to_delete = joy_records.sample(n=n_to_delete, random_state=42)\n",
    "\n",
    "# Remove the selected rows from the original DataFrame\n",
    "df_filtered = df.drop(rows_to_delete.index)\n",
    "\n",
    "print(df_filtered)"
   ]
  },
  {
   "cell_type": "code",
   "execution_count": 11,
   "id": "8da5a873-abe3-43a9-b790-f3bd56990669",
   "metadata": {},
   "outputs": [],
   "source": [
    "df = df_filtered"
   ]
  },
  {
   "cell_type": "code",
   "execution_count": 12,
   "id": "c61b6786-53fd-4814-abcf-44504412f9a9",
   "metadata": {},
   "outputs": [
    {
     "name": "stdout",
     "output_type": "stream",
     "text": [
      "                                                    text  label\n",
      "0          i just feel really helpless and heavy hearted      4\n",
      "1      i gave up my internship with the dmrg and am f...      4\n",
      "2      i am a kindergarten teacher and i am thoroughl...      4\n",
      "3      i would think that whomever would be lucky eno...      2\n",
      "4      im forever taking some time out to have a lie ...      5\n",
      "...                                                  ...    ...\n",
      "90110  i feel my restless heart breathe settled firml...      4\n",
      "90111  i could feel the cd was not impressed and frus...      5\n",
      "90112  i feel what i would have missed had i not had you      0\n",
      "90113  being mistreated by my former primary school t...      3\n",
      "90114  i does not feel pressured to offer trite or fo...      4\n",
      "\n",
      "[56983 rows x 2 columns]\n"
     ]
    }
   ],
   "source": [
    "# Filter rows with 'sadness' (label == 1)\n",
    "joy_records = df[df['label'] == 1]\n",
    "\n",
    "# Determine how many rows to delete (half the sadness records)\n",
    "n_to_delete = len(joy_records) // 2\n",
    "\n",
    "# Randomly select rows to delete\n",
    "rows_to_delete = joy_records.sample(n=n_to_delete, random_state=42)\n",
    "\n",
    "# Remove the selected rows from the original DataFrame\n",
    "df_filtered = df.drop(rows_to_delete.index)\n",
    "\n",
    "print(df_filtered)"
   ]
  },
  {
   "cell_type": "code",
   "execution_count": 14,
   "id": "21a6544a-ebcb-44d6-bfdb-b1e4ab1f75ce",
   "metadata": {},
   "outputs": [],
   "source": [
    "df = df_filtered"
   ]
  },
  {
   "cell_type": "code",
   "execution_count": 18,
   "id": "6f8251dc-a3a4-47a9-be9a-0fca4b2d368c",
   "metadata": {},
   "outputs": [
    {
     "name": "stdout",
     "output_type": "stream",
     "text": [
      "                                                    text  label\n",
      "1      i gave up my internship with the dmrg and am f...      4\n",
      "2      i am a kindergarten teacher and i am thoroughl...      4\n",
      "3      i would think that whomever would be lucky eno...      2\n",
      "4      im forever taking some time out to have a lie ...      5\n",
      "5      i feel like a jerk because the library student...      3\n",
      "...                                                  ...    ...\n",
      "90107  i would find that there was one child specific...      0\n",
      "90109  i feel like i am in a wasp version of whose af...      4\n",
      "90111  i could feel the cd was not impressed and frus...      5\n",
      "90112  i feel what i would have missed had i not had you      0\n",
      "90113  being mistreated by my former primary school t...      3\n",
      "\n",
      "[51034 rows x 2 columns]\n"
     ]
    }
   ],
   "source": [
    "# Filter rows with 'sadness' (label == 1)\n",
    "joy_records = df[df['label'] == 4]\n",
    "\n",
    "# Determine how many rows to delete (half the sadness records)\n",
    "n_to_delete = len(joy_records) // 2\n",
    "\n",
    "# Randomly select rows to delete\n",
    "rows_to_delete = joy_records.sample(n=n_to_delete, random_state=42)\n",
    "\n",
    "# Remove the selected rows from the original DataFrame\n",
    "df_filtered = df.drop(rows_to_delete.index)\n",
    "\n",
    "print(df_filtered)"
   ]
  },
  {
   "cell_type": "code",
   "execution_count": 21,
   "id": "0f9c5d53-6d59-4723-a159-f5e0c35b89ba",
   "metadata": {},
   "outputs": [],
   "source": [
    "df = df_filtered"
   ]
  },
  {
   "cell_type": "code",
   "execution_count": 22,
   "id": "f4deefda-e862-48fe-8f5d-2ccd72b6b0c0",
   "metadata": {},
   "outputs": [
    {
     "name": "stdout",
     "output_type": "stream",
     "text": [
      "                                                    text  label\n",
      "1      i gave up my internship with the dmrg and am f...      4\n",
      "2      i am a kindergarten teacher and i am thoroughl...      4\n",
      "3      i would think that whomever would be lucky eno...      2\n",
      "4      im forever taking some time out to have a lie ...      5\n",
      "6      i miss all the others as well that feel that i...      3\n",
      "...                                                  ...    ...\n",
      "90104  i didnt know there was going to be romantic pa...      5\n",
      "90107  i would find that there was one child specific...      0\n",
      "90109  i feel like i am in a wasp version of whose af...      4\n",
      "90111  i could feel the cd was not impressed and frus...      5\n",
      "90112  i feel what i would have missed had i not had you      0\n",
      "\n",
      "[43942 rows x 2 columns]\n"
     ]
    }
   ],
   "source": [
    "# Filter rows with 'sadness' (label == 1)\n",
    "joy_records = df[df['label'] == 3]\n",
    "\n",
    "# Determine how many rows to delete (half the sadness records)\n",
    "n_to_delete = len(joy_records) // 2\n",
    "\n",
    "# Randomly select rows to delete\n",
    "rows_to_delete = joy_records.sample(n=n_to_delete, random_state=42)\n",
    "\n",
    "# Remove the selected rows from the original DataFrame\n",
    "df_filtered = df.drop(rows_to_delete.index)\n",
    "\n",
    "print(df_filtered)"
   ]
  },
  {
   "cell_type": "code",
   "execution_count": 28,
   "id": "0ac4e096-702e-4d1e-9cfb-78d221211709",
   "metadata": {},
   "outputs": [],
   "source": [
    "df = df_filtered"
   ]
  },
  {
   "cell_type": "code",
   "execution_count": 31,
   "id": "2a1d8149-161d-441c-8f7e-120b655c8796",
   "metadata": {},
   "outputs": [
    {
     "data": {
      "text/html": [
       "<div>\n",
       "<style scoped>\n",
       "    .dataframe tbody tr th:only-of-type {\n",
       "        vertical-align: middle;\n",
       "    }\n",
       "\n",
       "    .dataframe tbody tr th {\n",
       "        vertical-align: top;\n",
       "    }\n",
       "\n",
       "    .dataframe thead th {\n",
       "        text-align: right;\n",
       "    }\n",
       "</style>\n",
       "<table border=\"1\" class=\"dataframe\">\n",
       "  <thead>\n",
       "    <tr style=\"text-align: right;\">\n",
       "      <th></th>\n",
       "      <th>text</th>\n",
       "      <th>label</th>\n",
       "    </tr>\n",
       "  </thead>\n",
       "  <tbody>\n",
       "    <tr>\n",
       "      <th>1</th>\n",
       "      <td>i gave up my internship with the dmrg and am f...</td>\n",
       "      <td>4</td>\n",
       "    </tr>\n",
       "    <tr>\n",
       "      <th>2</th>\n",
       "      <td>i am a kindergarten teacher and i am thoroughl...</td>\n",
       "      <td>4</td>\n",
       "    </tr>\n",
       "    <tr>\n",
       "      <th>3</th>\n",
       "      <td>i would think that whomever would be lucky eno...</td>\n",
       "      <td>2</td>\n",
       "    </tr>\n",
       "    <tr>\n",
       "      <th>4</th>\n",
       "      <td>im forever taking some time out to have a lie ...</td>\n",
       "      <td>5</td>\n",
       "    </tr>\n",
       "    <tr>\n",
       "      <th>6</th>\n",
       "      <td>i miss all the others as well that feel that i...</td>\n",
       "      <td>3</td>\n",
       "    </tr>\n",
       "    <tr>\n",
       "      <th>...</th>\n",
       "      <td>...</td>\n",
       "      <td>...</td>\n",
       "    </tr>\n",
       "    <tr>\n",
       "      <th>90104</th>\n",
       "      <td>i didnt know there was going to be romantic pa...</td>\n",
       "      <td>5</td>\n",
       "    </tr>\n",
       "    <tr>\n",
       "      <th>90107</th>\n",
       "      <td>i would find that there was one child specific...</td>\n",
       "      <td>0</td>\n",
       "    </tr>\n",
       "    <tr>\n",
       "      <th>90109</th>\n",
       "      <td>i feel like i am in a wasp version of whose af...</td>\n",
       "      <td>4</td>\n",
       "    </tr>\n",
       "    <tr>\n",
       "      <th>90111</th>\n",
       "      <td>i could feel the cd was not impressed and frus...</td>\n",
       "      <td>5</td>\n",
       "    </tr>\n",
       "    <tr>\n",
       "      <th>90112</th>\n",
       "      <td>i feel what i would have missed had i not had you</td>\n",
       "      <td>0</td>\n",
       "    </tr>\n",
       "  </tbody>\n",
       "</table>\n",
       "<p>43942 rows × 2 columns</p>\n",
       "</div>"
      ],
      "text/plain": [
       "                                                    text  label\n",
       "1      i gave up my internship with the dmrg and am f...      4\n",
       "2      i am a kindergarten teacher and i am thoroughl...      4\n",
       "3      i would think that whomever would be lucky eno...      2\n",
       "4      im forever taking some time out to have a lie ...      5\n",
       "6      i miss all the others as well that feel that i...      3\n",
       "...                                                  ...    ...\n",
       "90104  i didnt know there was going to be romantic pa...      5\n",
       "90107  i would find that there was one child specific...      0\n",
       "90109  i feel like i am in a wasp version of whose af...      4\n",
       "90111  i could feel the cd was not impressed and frus...      5\n",
       "90112  i feel what i would have missed had i not had you      0\n",
       "\n",
       "[43942 rows x 2 columns]"
      ]
     },
     "execution_count": 31,
     "metadata": {},
     "output_type": "execute_result"
    }
   ],
   "source": [
    "df"
   ]
  },
  {
   "cell_type": "code",
   "execution_count": 35,
   "id": "aa35616c-4cfe-4847-92c3-d8bc60eff4d5",
   "metadata": {},
   "outputs": [
    {
     "data": {
      "image/png": "[encoded data removed]",
      "text/plain": [
       "<Figure size 640x480 with 1 Axes>"
      ]
     },
     "metadata": {},
     "output_type": "display_data"
    }
   ],
   "source": [
    "# Count Plot: Visualizes sentiment distribution in the dataset.\n",
    "\n",
    "sb.countplot(x = 'label', data = df)\n",
    "plt.title('Sentiment Distribution')\n",
    "plt.xlabel('Sentiment')\n",
    "plt.ylabel('Count of Reviews')\n",
    "plt.show()"
   ]
  },
  {
   "cell_type": "markdown",
   "id": "c732e81f-dcdd-4e85-a4d3-b3d7eaf27132",
   "metadata": {},
   "source": [
    "# Handling Imbalanced Data\n",
    "# Synthetic Minority Over-sampling Technique (SMOTE):"
   ]
  },
  {
   "cell_type": "code",
   "execution_count": 44,
   "id": "4ca4900f-3faf-4e2f-8373-3857b8aaeac0",
   "metadata": {},
   "outputs": [
    {
     "name": "stdout",
     "output_type": "stream",
     "text": [
      "label\n",
      "1    7351\n",
      "0    7351\n",
      "2    7351\n",
      "3    7351\n",
      "4    7351\n",
      "5    7351\n",
      "Name: count, dtype: int64\n"
     ]
    }
   ],
   "source": [
    "from sklearn.utils import resample\n",
    "\n",
    "\n",
    "df_majority = df[df['label']==1]\n",
    "# Separate each minority class\n",
    "df_minority_0 = df[df['label'] == 0]\n",
    "df_minority_2 = df[df['label'] == 2]\n",
    "df_minority_3 = df[df['label'] == 3]\n",
    "df_minority_4 = df[df['label'] == 4]\n",
    "df_minority_5 = df[df['label'] == 5]\n",
    "\n",
    "# Upsample each minority class to match the majority class size\n",
    "n_samples = len(df_majority)\n",
    "\n",
    "df_minority_0_upsampled = resample(df_minority_0, replace=True, n_samples=n_samples, random_state=22)\n",
    "df_minority_2_upsampled = resample(df_minority_2, replace=True, n_samples=n_samples, random_state=22)\n",
    "df_minority_3_upsampled = resample(df_minority_3, replace=True, n_samples=n_samples, random_state=22)\n",
    "df_minority_4_upsampled = resample(df_minority_4, replace=True, n_samples=n_samples, random_state=22)\n",
    "df_minority_5_upsampled = resample(df_minority_5, replace=True, n_samples=n_samples, random_state=22)\n",
    "\n",
    "# Combine majority class and all upsampled minority classes\n",
    "df_upsampled = pd.concat([df_majority, df_minority_0_upsampled, df_minority_2_upsampled,\n",
    "                          df_minority_3_upsampled, df_minority_4_upsampled, df_minority_5_upsampled])\n",
    "\n",
    "print(df_upsampled['label'].value_counts())\n"
   ]
  },
  {
   "cell_type": "code",
   "execution_count": 50,
   "id": "5a80908e-4ca8-4e96-9cb9-768b4eac1171",
   "metadata": {},
   "outputs": [
    {
     "data": {
      "image/png": "[encoded data removed]",
      "text/plain": [
       "<Figure size 640x480 with 1 Axes>"
      ]
     },
     "metadata": {},
     "output_type": "display_data"
    }
   ],
   "source": [
    "# Count Plot: Visualizes sentiment distribution in the dataset.\n",
    "\n",
    "sb.countplot(x = 'label', data = df_upsampled)\n",
    "plt.title('Sentiment Distribution')\n",
    "plt.xlabel('Sentiment')\n",
    "plt.ylabel('Count of Reviews')\n",
    "plt.show()"
   ]
  },
  {
   "cell_type": "code",
   "execution_count": 52,
   "id": "1f88e703-91b8-43e1-9225-33fca38bebfd",
   "metadata": {},
   "outputs": [
    {
     "name": "stdout",
     "output_type": "stream",
     "text": [
      "Requirement already satisfied: spacy in c:\\users\\mudasser.qayyom\\appdata\\local\\anaconda3\\lib\\site-packages (3.7.6)\n",
      "Requirement already satisfied: pydantic in c:\\users\\mudasser.qayyom\\appdata\\local\\anaconda3\\lib\\site-packages (2.9.1)\n",
      "Requirement already satisfied: spacy-legacy<3.1.0,>=3.0.11 in c:\\users\\mudasser.qayyom\\appdata\\local\\anaconda3\\lib\\site-packages (from spacy) (3.0.12)\n",
      "Requirement already satisfied: spacy-loggers<2.0.0,>=1.0.0 in c:\\users\\mudasser.qayyom\\appdata\\local\\anaconda3\\lib\\site-packages (from spacy) (1.0.5)\n",
      "Requirement already satisfied: murmurhash<1.1.0,>=0.28.0 in c:\\users\\mudasser.qayyom\\appdata\\local\\anaconda3\\lib\\site-packages (from spacy) (1.0.10)\n",
      "Requirement already satisfied: cymem<2.1.0,>=2.0.2 in c:\\users\\mudasser.qayyom\\appdata\\local\\anaconda3\\lib\\site-packages (from spacy) (2.0.8)\n",
      "Requirement already satisfied: preshed<3.1.0,>=3.0.2 in c:\\users\\mudasser.qayyom\\appdata\\local\\anaconda3\\lib\\site-packages (from spacy) (3.0.9)\n",
      "Requirement already satisfied: thinc<8.3.0,>=8.2.2 in c:\\users\\mudasser.qayyom\\appdata\\local\\anaconda3\\lib\\site-packages (from spacy) (8.2.5)\n",
      "Requirement already satisfied: wasabi<1.2.0,>=0.9.1 in c:\\users\\mudasser.qayyom\\appdata\\local\\anaconda3\\lib\\site-packages (from spacy) (1.1.3)\n",
      "Requirement already satisfied: srsly<3.0.0,>=2.4.3 in c:\\users\\mudasser.qayyom\\appdata\\local\\anaconda3\\lib\\site-packages (from spacy) (2.4.8)\n",
      "Requirement already satisfied: catalogue<2.1.0,>=2.0.6 in c:\\users\\mudasser.qayyom\\appdata\\local\\anaconda3\\lib\\site-packages (from spacy) (2.0.10)\n",
      "Requirement already satisfied: weasel<0.5.0,>=0.1.0 in c:\\users\\mudasser.qayyom\\appdata\\local\\anaconda3\\lib\\site-packages (from spacy) (0.4.1)\n",
      "Requirement already satisfied: typer<1.0.0,>=0.3.0 in c:\\users\\mudasser.qayyom\\appdata\\local\\anaconda3\\lib\\site-packages (from spacy) (0.12.5)\n",
      "Requirement already satisfied: tqdm<5.0.0,>=4.38.0 in c:\\users\\mudasser.qayyom\\appdata\\local\\anaconda3\\lib\\site-packages (from spacy) (4.66.4)\n",
      "Requirement already satisfied: requests<3.0.0,>=2.13.0 in c:\\users\\mudasser.qayyom\\appdata\\local\\anaconda3\\lib\\site-packages (from spacy) (2.32.2)\n",
      "Requirement already satisfied: jinja2 in c:\\users\\mudasser.qayyom\\appdata\\local\\anaconda3\\lib\\site-packages (from spacy) (3.1.4)\n",
      "Requirement already satisfied: setuptools in c:\\users\\mudasser.qayyom\\appdata\\local\\anaconda3\\lib\\site-packages (from spacy) (69.5.1)\n",
      "Requirement already satisfied: packaging>=20.0 in c:\\users\\mudasser.qayyom\\appdata\\local\\anaconda3\\lib\\site-packages (from spacy) (23.2)\n",
      "Requirement already satisfied: langcodes<4.0.0,>=3.2.0 in c:\\users\\mudasser.qayyom\\appdata\\local\\anaconda3\\lib\\site-packages (from spacy) (3.4.0)\n",
      "Requirement already satisfied: numpy>=1.19.0 in c:\\users\\mudasser.qayyom\\appdata\\local\\anaconda3\\lib\\site-packages (from spacy) (1.26.4)\n",
      "Requirement already satisfied: annotated-types>=0.6.0 in c:\\users\\mudasser.qayyom\\appdata\\local\\anaconda3\\lib\\site-packages (from pydantic) (0.6.0)\n",
      "Requirement already satisfied: pydantic-core==2.23.3 in c:\\users\\mudasser.qayyom\\appdata\\local\\anaconda3\\lib\\site-packages (from pydantic) (2.23.3)\n",
      "Requirement already satisfied: typing-extensions>=4.6.1 in c:\\users\\mudasser.qayyom\\appdata\\local\\anaconda3\\lib\\site-packages (from pydantic) (4.11.0)\n",
      "Requirement already satisfied: language-data>=1.2 in c:\\users\\mudasser.qayyom\\appdata\\local\\anaconda3\\lib\\site-packages (from langcodes<4.0.0,>=3.2.0->spacy) (1.2.0)\n",
      "Requirement already satisfied: charset-normalizer<4,>=2 in c:\\users\\mudasser.qayyom\\appdata\\local\\anaconda3\\lib\\site-packages (from requests<3.0.0,>=2.13.0->spacy) (2.0.4)\n",
      "Requirement already satisfied: idna<4,>=2.5 in c:\\users\\mudasser.qayyom\\appdata\\local\\anaconda3\\lib\\site-packages (from requests<3.0.0,>=2.13.0->spacy) (3.7)\n",
      "Requirement already satisfied: urllib3<3,>=1.21.1 in c:\\users\\mudasser.qayyom\\appdata\\local\\anaconda3\\lib\\site-packages (from requests<3.0.0,>=2.13.0->spacy) (2.2.2)\n",
      "Requirement already satisfied: certifi>=2017.4.17 in c:\\users\\mudasser.qayyom\\appdata\\local\\anaconda3\\lib\\site-packages (from requests<3.0.0,>=2.13.0->spacy) (2024.7.4)\n",
      "Requirement already satisfied: blis<0.8.0,>=0.7.8 in c:\\users\\mudasser.qayyom\\appdata\\local\\anaconda3\\lib\\site-packages (from thinc<8.3.0,>=8.2.2->spacy) (0.7.11)\n",
      "Requirement already satisfied: confection<1.0.0,>=0.0.1 in c:\\users\\mudasser.qayyom\\appdata\\local\\anaconda3\\lib\\site-packages (from thinc<8.3.0,>=8.2.2->spacy) (0.1.5)\n",
      "Requirement already satisfied: colorama in c:\\users\\mudasser.qayyom\\appdata\\local\\anaconda3\\lib\\site-packages (from tqdm<5.0.0,>=4.38.0->spacy) (0.4.6)\n",
      "Requirement already satisfied: click>=8.0.0 in c:\\users\\mudasser.qayyom\\appdata\\local\\anaconda3\\lib\\site-packages (from typer<1.0.0,>=0.3.0->spacy) (8.1.7)\n",
      "Requirement already satisfied: shellingham>=1.3.0 in c:\\users\\mudasser.qayyom\\appdata\\local\\anaconda3\\lib\\site-packages (from typer<1.0.0,>=0.3.0->spacy) (1.5.4)\n",
      "Requirement already satisfied: rich>=10.11.0 in c:\\users\\mudasser.qayyom\\appdata\\local\\anaconda3\\lib\\site-packages (from typer<1.0.0,>=0.3.0->spacy) (13.3.5)\n",
      "Requirement already satisfied: cloudpathlib<1.0.0,>=0.7.0 in c:\\users\\mudasser.qayyom\\appdata\\local\\anaconda3\\lib\\site-packages (from weasel<0.5.0,>=0.1.0->spacy) (0.19.0)\n",
      "Requirement already satisfied: smart-open<8.0.0,>=5.2.1 in c:\\users\\mudasser.qayyom\\appdata\\local\\anaconda3\\lib\\site-packages (from weasel<0.5.0,>=0.1.0->spacy) (5.2.1)\n",
      "Requirement already satisfied: MarkupSafe>=2.0 in c:\\users\\mudasser.qayyom\\appdata\\local\\anaconda3\\lib\\site-packages (from jinja2->spacy) (2.1.3)\n",
      "Requirement already satisfied: marisa-trie>=0.7.7 in c:\\users\\mudasser.qayyom\\appdata\\local\\anaconda3\\lib\\site-packages (from language-data>=1.2->langcodes<4.0.0,>=3.2.0->spacy) (1.2.0)\n",
      "Requirement already satisfied: markdown-it-py<3.0.0,>=2.2.0 in c:\\users\\mudasser.qayyom\\appdata\\local\\anaconda3\\lib\\site-packages (from rich>=10.11.0->typer<1.0.0,>=0.3.0->spacy) (2.2.0)\n",
      "Requirement already satisfied: pygments<3.0.0,>=2.13.0 in c:\\users\\mudasser.qayyom\\appdata\\local\\anaconda3\\lib\\site-packages (from rich>=10.11.0->typer<1.0.0,>=0.3.0->spacy) (2.15.1)\n",
      "Requirement already satisfied: mdurl~=0.1 in c:\\users\\mudasser.qayyom\\appdata\\local\\anaconda3\\lib\\site-packages (from markdown-it-py<3.0.0,>=2.2.0->rich>=10.11.0->typer<1.0.0,>=0.3.0->spacy) (0.1.0)\n"
     ]
    }
   ],
   "source": [
    "# 1.Text Cleaning (Optional but Recommended)\n",
    "# Clean the text by removing unnecessary characters, stop words, punctuation, and converting to lowercase if needed.\n",
    "\n",
    "#!pip install spacy\n",
    "\n",
    "!pip install --upgrade spacy pydantic\n"
   ]
  },
  {
   "cell_type": "code",
   "execution_count": 54,
   "id": "65b13135-e28c-4c2c-9d1a-fa31f1d7c362",
   "metadata": {},
   "outputs": [
    {
     "name": "stdout",
     "output_type": "stream",
     "text": [
      "Collecting en-core-web-sm==3.7.1\n",
      "  Downloading https://github.com/explosion/spacy-models/releases/download/en_core_web_sm-3.7.1/en_core_web_sm-3.7.1-py3-none-any.whl (12.8 MB)\n",
      "     ---------------------------------------- 0.0/12.8 MB ? eta -:--:--\n",
      "     ---------------------------------------- 0.0/12.8 MB ? eta -:--:--\n",
      "     --------------------------------------- 0.0/12.8 MB 325.1 kB/s eta 0:00:40\n",
      "     --------------------------------------- 0.1/12.8 MB 409.6 kB/s eta 0:00:32\n",
      "     --------------------------------------- 0.1/12.8 MB 476.3 kB/s eta 0:00:27\n",
      "     --------------------------------------- 0.1/12.8 MB 514.3 kB/s eta 0:00:25\n",
      "      -------------------------------------- 0.2/12.8 MB 615.9 kB/s eta 0:00:21\n",
      "      -------------------------------------- 0.2/12.8 MB 621.6 kB/s eta 0:00:21\n",
      "      -------------------------------------- 0.3/12.8 MB 682.7 kB/s eta 0:00:19\n",
      "      -------------------------------------- 0.3/12.8 MB 728.0 kB/s eta 0:00:18\n",
      "     - ------------------------------------- 0.4/12.8 MB 764.2 kB/s eta 0:00:17\n",
      "     - ------------------------------------- 0.4/12.8 MB 813.6 kB/s eta 0:00:16\n",
      "     - ------------------------------------- 0.5/12.8 MB 836.7 kB/s eta 0:00:15\n",
      "     - ------------------------------------- 0.5/12.8 MB 896.4 kB/s eta 0:00:14\n",
      "     - ------------------------------------- 0.6/12.8 MB 921.0 kB/s eta 0:00:14\n",
      "     -- ------------------------------------ 0.7/12.8 MB 997.2 kB/s eta 0:00:13\n",
      "     -- ------------------------------------- 0.8/12.8 MB 1.0 MB/s eta 0:00:12\n",
      "     -- ------------------------------------- 0.9/12.8 MB 1.1 MB/s eta 0:00:12\n",
      "     -- ------------------------------------- 0.9/12.8 MB 1.1 MB/s eta 0:00:11\n",
      "     --- ------------------------------------ 1.0/12.8 MB 1.1 MB/s eta 0:00:11\n",
      "     --- ------------------------------------ 1.1/12.8 MB 1.2 MB/s eta 0:00:11\n",
      "     --- ------------------------------------ 1.2/12.8 MB 1.2 MB/s eta 0:00:10\n",
      "     ---- ----------------------------------- 1.3/12.8 MB 1.2 MB/s eta 0:00:10\n",
      "     ---- ----------------------------------- 1.5/12.8 MB 1.3 MB/s eta 0:00:09\n",
      "     ---- ----------------------------------- 1.5/12.8 MB 1.3 MB/s eta 0:00:09\n",
      "     ----- ---------------------------------- 1.7/12.8 MB 1.4 MB/s eta 0:00:08\n",
      "     ----- ---------------------------------- 1.8/12.8 MB 1.4 MB/s eta 0:00:08\n",
      "     ----- ---------------------------------- 1.9/12.8 MB 1.5 MB/s eta 0:00:08\n",
      "     ------ --------------------------------- 2.0/12.8 MB 1.5 MB/s eta 0:00:08\n",
      "     ------ --------------------------------- 2.2/12.8 MB 1.6 MB/s eta 0:00:07\n",
      "     ------- -------------------------------- 2.3/12.8 MB 1.6 MB/s eta 0:00:07\n",
      "     ------- -------------------------------- 2.4/12.8 MB 1.6 MB/s eta 0:00:07\n",
      "     ------- -------------------------------- 2.5/12.8 MB 1.6 MB/s eta 0:00:07\n",
      "     -------- ------------------------------- 2.7/12.8 MB 1.7 MB/s eta 0:00:06\n",
      "     -------- ------------------------------- 2.8/12.8 MB 1.7 MB/s eta 0:00:06\n",
      "     --------- ------------------------------ 3.0/12.8 MB 1.8 MB/s eta 0:00:06\n",
      "     --------- ------------------------------ 3.1/12.8 MB 1.8 MB/s eta 0:00:06\n",
      "     ---------- ----------------------------- 3.2/12.8 MB 1.9 MB/s eta 0:00:06\n",
      "     ---------- ----------------------------- 3.4/12.8 MB 1.9 MB/s eta 0:00:05\n",
      "     ----------- ---------------------------- 3.6/12.8 MB 1.9 MB/s eta 0:00:05\n",
      "     ----------- ---------------------------- 3.7/12.8 MB 2.0 MB/s eta 0:00:05\n",
      "     ------------ --------------------------- 3.9/12.8 MB 2.0 MB/s eta 0:00:05\n",
      "     ------------ --------------------------- 4.0/12.8 MB 2.0 MB/s eta 0:00:05\n",
      "     ------------- -------------------------- 4.2/12.8 MB 2.1 MB/s eta 0:00:05\n",
      "     ------------- -------------------------- 4.4/12.8 MB 2.1 MB/s eta 0:00:04\n",
      "     -------------- ------------------------- 4.6/12.8 MB 2.2 MB/s eta 0:00:04\n",
      "     -------------- ------------------------- 4.7/12.8 MB 2.2 MB/s eta 0:00:04\n",
      "     --------------- ------------------------ 4.9/12.8 MB 2.3 MB/s eta 0:00:04\n",
      "     --------------- ------------------------ 5.1/12.8 MB 2.3 MB/s eta 0:00:04\n",
      "     ---------------- ----------------------- 5.3/12.8 MB 2.3 MB/s eta 0:00:04\n",
      "     ----------------- ---------------------- 5.5/12.8 MB 2.4 MB/s eta 0:00:04\n",
      "     ----------------- ---------------------- 5.6/12.8 MB 2.4 MB/s eta 0:00:03\n",
      "     ------------------ --------------------- 5.8/12.8 MB 2.4 MB/s eta 0:00:03\n",
      "     ------------------ --------------------- 6.0/12.8 MB 2.5 MB/s eta 0:00:03\n",
      "     ------------------- -------------------- 6.2/12.8 MB 2.5 MB/s eta 0:00:03\n",
      "     ------------------- -------------------- 6.2/12.8 MB 2.5 MB/s eta 0:00:03\n",
      "     -------------------- ------------------- 6.6/12.8 MB 2.6 MB/s eta 0:00:03\n",
      "     -------------------- ------------------- 6.7/12.8 MB 2.6 MB/s eta 0:00:03\n",
      "     ---------------------- ----------------- 7.1/12.8 MB 2.7 MB/s eta 0:00:03\n",
      "     ---------------------- ----------------- 7.1/12.8 MB 2.6 MB/s eta 0:00:03\n",
      "     ----------------------- ---------------- 7.5/12.8 MB 2.7 MB/s eta 0:00:02\n",
      "     ----------------------- ---------------- 7.6/12.8 MB 2.7 MB/s eta 0:00:02\n",
      "     ------------------------- -------------- 8.0/12.8 MB 2.8 MB/s eta 0:00:02\n",
      "     ------------------------- -------------- 8.1/12.8 MB 2.8 MB/s eta 0:00:02\n",
      "     -------------------------- ------------- 8.5/12.8 MB 2.9 MB/s eta 0:00:02\n",
      "     --------------------------- ------------ 8.6/12.8 MB 2.9 MB/s eta 0:00:02\n",
      "     ---------------------------- ----------- 9.0/12.8 MB 3.0 MB/s eta 0:00:02\n",
      "     ---------------------------- ----------- 9.1/12.8 MB 3.0 MB/s eta 0:00:02\n",
      "     ----------------------------- ---------- 9.5/12.8 MB 3.0 MB/s eta 0:00:02\n",
      "     ------------------------------ --------- 9.6/12.8 MB 3.0 MB/s eta 0:00:02\n",
      "     ------------------------------ --------- 9.9/12.8 MB 3.1 MB/s eta 0:00:01\n",
      "     ------------------------------- -------- 10.1/12.8 MB 3.1 MB/s eta 0:00:01\n",
      "     -------------------------------- ------- 10.4/12.8 MB 3.3 MB/s eta 0:00:01\n",
      "     --------------------------------- ------ 10.7/12.8 MB 3.6 MB/s eta 0:00:01\n",
      "     --------------------------------- ------ 10.8/12.8 MB 3.8 MB/s eta 0:00:01\n",
      "     ---------------------------------- ----- 11.1/12.8 MB 4.0 MB/s eta 0:00:01\n",
      "     ----------------------------------- ---- 11.3/12.8 MB 4.1 MB/s eta 0:00:01\n",
      "     ------------------------------------ --- 11.7/12.8 MB 4.3 MB/s eta 0:00:01\n",
      "     ------------------------------------- -- 11.9/12.8 MB 4.4 MB/s eta 0:00:01\n",
      "     -------------------------------------- - 12.3/12.8 MB 4.5 MB/s eta 0:00:01\n",
      "     ---------------------------------------  12.6/12.8 MB 4.7 MB/s eta 0:00:01\n",
      "     ---------------------------------------  12.8/12.8 MB 4.8 MB/s eta 0:00:01\n",
      "     ---------------------------------------  12.8/12.8 MB 4.8 MB/s eta 0:00:01\n",
      "     ---------------------------------------  12.8/12.8 MB 4.8 MB/s eta 0:00:01\n",
      "     ---------------------------------------- 12.8/12.8 MB 4.5 MB/s eta 0:00:00\n",
      "Requirement already satisfied: spacy<3.8.0,>=3.7.2 in c:\\users\\mudasser.qayyom\\appdata\\local\\anaconda3\\lib\\site-packages (from en-core-web-sm==3.7.1) (3.7.6)\n",
      "Requirement already satisfied: spacy-legacy<3.1.0,>=3.0.11 in c:\\users\\mudasser.qayyom\\appdata\\local\\anaconda3\\lib\\site-packages (from spacy<3.8.0,>=3.7.2->en-core-web-sm==3.7.1) (3.0.12)\n",
      "Requirement already satisfied: spacy-loggers<2.0.0,>=1.0.0 in c:\\users\\mudasser.qayyom\\appdata\\local\\anaconda3\\lib\\site-packages (from spacy<3.8.0,>=3.7.2->en-core-web-sm==3.7.1) (1.0.5)\n",
      "Requirement already satisfied: murmurhash<1.1.0,>=0.28.0 in c:\\users\\mudasser.qayyom\\appdata\\local\\anaconda3\\lib\\site-packages (from spacy<3.8.0,>=3.7.2->en-core-web-sm==3.7.1) (1.0.10)\n",
      "Requirement already satisfied: cymem<2.1.0,>=2.0.2 in c:\\users\\mudasser.qayyom\\appdata\\local\\anaconda3\\lib\\site-packages (from spacy<3.8.0,>=3.7.2->en-core-web-sm==3.7.1) (2.0.8)\n",
      "Requirement already satisfied: preshed<3.1.0,>=3.0.2 in c:\\users\\mudasser.qayyom\\appdata\\local\\anaconda3\\lib\\site-packages (from spacy<3.8.0,>=3.7.2->en-core-web-sm==3.7.1) (3.0.9)\n",
      "Requirement already satisfied: thinc<8.3.0,>=8.2.2 in c:\\users\\mudasser.qayyom\\appdata\\local\\anaconda3\\lib\\site-packages (from spacy<3.8.0,>=3.7.2->en-core-web-sm==3.7.1) (8.2.5)\n",
      "Requirement already satisfied: wasabi<1.2.0,>=0.9.1 in c:\\users\\mudasser.qayyom\\appdata\\local\\anaconda3\\lib\\site-packages (from spacy<3.8.0,>=3.7.2->en-core-web-sm==3.7.1) (1.1.3)\n",
      "Requirement already satisfied: srsly<3.0.0,>=2.4.3 in c:\\users\\mudasser.qayyom\\appdata\\local\\anaconda3\\lib\\site-packages (from spacy<3.8.0,>=3.7.2->en-core-web-sm==3.7.1) (2.4.8)\n",
      "Requirement already satisfied: catalogue<2.1.0,>=2.0.6 in c:\\users\\mudasser.qayyom\\appdata\\local\\anaconda3\\lib\\site-packages (from spacy<3.8.0,>=3.7.2->en-core-web-sm==3.7.1) (2.0.10)\n",
      "Requirement already satisfied: weasel<0.5.0,>=0.1.0 in c:\\users\\mudasser.qayyom\\appdata\\local\\anaconda3\\lib\\site-packages (from spacy<3.8.0,>=3.7.2->en-core-web-sm==3.7.1) (0.4.1)\n",
      "Requirement already satisfied: typer<1.0.0,>=0.3.0 in c:\\users\\mudasser.qayyom\\appdata\\local\\anaconda3\\lib\\site-packages (from spacy<3.8.0,>=3.7.2->en-core-web-sm==3.7.1) (0.12.5)\n",
      "Requirement already satisfied: tqdm<5.0.0,>=4.38.0 in c:\\users\\mudasser.qayyom\\appdata\\local\\anaconda3\\lib\\site-packages (from spacy<3.8.0,>=3.7.2->en-core-web-sm==3.7.1) (4.66.4)\n",
      "Requirement already satisfied: requests<3.0.0,>=2.13.0 in c:\\users\\mudasser.qayyom\\appdata\\local\\anaconda3\\lib\\site-packages (from spacy<3.8.0,>=3.7.2->en-core-web-sm==3.7.1) (2.32.2)\n",
      "Requirement already satisfied: pydantic!=1.8,!=1.8.1,<3.0.0,>=1.7.4 in c:\\users\\mudasser.qayyom\\appdata\\local\\anaconda3\\lib\\site-packages (from spacy<3.8.0,>=3.7.2->en-core-web-sm==3.7.1) (2.9.1)\n",
      "Requirement already satisfied: jinja2 in c:\\users\\mudasser.qayyom\\appdata\\local\\anaconda3\\lib\\site-packages (from spacy<3.8.0,>=3.7.2->en-core-web-sm==3.7.1) (3.1.4)\n",
      "Requirement already satisfied: setuptools in c:\\users\\mudasser.qayyom\\appdata\\local\\anaconda3\\lib\\site-packages (from spacy<3.8.0,>=3.7.2->en-core-web-sm==3.7.1) (69.5.1)\n",
      "Requirement already satisfied: packaging>=20.0 in c:\\users\\mudasser.qayyom\\appdata\\local\\anaconda3\\lib\\site-packages (from spacy<3.8.0,>=3.7.2->en-core-web-sm==3.7.1) (23.2)\n",
      "Requirement already satisfied: langcodes<4.0.0,>=3.2.0 in c:\\users\\mudasser.qayyom\\appdata\\local\\anaconda3\\lib\\site-packages (from spacy<3.8.0,>=3.7.2->en-core-web-sm==3.7.1) (3.4.0)\n",
      "Requirement already satisfied: numpy>=1.19.0 in c:\\users\\mudasser.qayyom\\appdata\\local\\anaconda3\\lib\\site-packages (from spacy<3.8.0,>=3.7.2->en-core-web-sm==3.7.1) (1.26.4)\n",
      "Requirement already satisfied: language-data>=1.2 in c:\\users\\mudasser.qayyom\\appdata\\local\\anaconda3\\lib\\site-packages (from langcodes<4.0.0,>=3.2.0->spacy<3.8.0,>=3.7.2->en-core-web-sm==3.7.1) (1.2.0)\n",
      "Requirement already satisfied: annotated-types>=0.6.0 in c:\\users\\mudasser.qayyom\\appdata\\local\\anaconda3\\lib\\site-packages (from pydantic!=1.8,!=1.8.1,<3.0.0,>=1.7.4->spacy<3.8.0,>=3.7.2->en-core-web-sm==3.7.1) (0.6.0)\n",
      "Requirement already satisfied: pydantic-core==2.23.3 in c:\\users\\mudasser.qayyom\\appdata\\local\\anaconda3\\lib\\site-packages (from pydantic!=1.8,!=1.8.1,<3.0.0,>=1.7.4->spacy<3.8.0,>=3.7.2->en-core-web-sm==3.7.1) (2.23.3)\n",
      "Requirement already satisfied: typing-extensions>=4.6.1 in c:\\users\\mudasser.qayyom\\appdata\\local\\anaconda3\\lib\\site-packages (from pydantic!=1.8,!=1.8.1,<3.0.0,>=1.7.4->spacy<3.8.0,>=3.7.2->en-core-web-sm==3.7.1) (4.11.0)\n",
      "Requirement already satisfied: charset-normalizer<4,>=2 in c:\\users\\mudasser.qayyom\\appdata\\local\\anaconda3\\lib\\site-packages (from requests<3.0.0,>=2.13.0->spacy<3.8.0,>=3.7.2->en-core-web-sm==3.7.1) (2.0.4)\n",
      "Requirement already satisfied: idna<4,>=2.5 in c:\\users\\mudasser.qayyom\\appdata\\local\\anaconda3\\lib\\site-packages (from requests<3.0.0,>=2.13.0->spacy<3.8.0,>=3.7.2->en-core-web-sm==3.7.1) (3.7)\n",
      "Requirement already satisfied: urllib3<3,>=1.21.1 in c:\\users\\mudasser.qayyom\\appdata\\local\\anaconda3\\lib\\site-packages (from requests<3.0.0,>=2.13.0->spacy<3.8.0,>=3.7.2->en-core-web-sm==3.7.1) (2.2.2)\n",
      "Requirement already satisfied: certifi>=2017.4.17 in c:\\users\\mudasser.qayyom\\appdata\\local\\anaconda3\\lib\\site-packages (from requests<3.0.0,>=2.13.0->spacy<3.8.0,>=3.7.2->en-core-web-sm==3.7.1) (2024.7.4)\n",
      "Requirement already satisfied: blis<0.8.0,>=0.7.8 in c:\\users\\mudasser.qayyom\\appdata\\local\\anaconda3\\lib\\site-packages (from thinc<8.3.0,>=8.2.2->spacy<3.8.0,>=3.7.2->en-core-web-sm==3.7.1) (0.7.11)\n",
      "Requirement already satisfied: confection<1.0.0,>=0.0.1 in c:\\users\\mudasser.qayyom\\appdata\\local\\anaconda3\\lib\\site-packages (from thinc<8.3.0,>=8.2.2->spacy<3.8.0,>=3.7.2->en-core-web-sm==3.7.1) (0.1.5)\n",
      "Requirement already satisfied: colorama in c:\\users\\mudasser.qayyom\\appdata\\local\\anaconda3\\lib\\site-packages (from tqdm<5.0.0,>=4.38.0->spacy<3.8.0,>=3.7.2->en-core-web-sm==3.7.1) (0.4.6)\n",
      "Requirement already satisfied: click>=8.0.0 in c:\\users\\mudasser.qayyom\\appdata\\local\\anaconda3\\lib\\site-packages (from typer<1.0.0,>=0.3.0->spacy<3.8.0,>=3.7.2->en-core-web-sm==3.7.1) (8.1.7)\n",
      "Requirement already satisfied: shellingham>=1.3.0 in c:\\users\\mudasser.qayyom\\appdata\\local\\anaconda3\\lib\\site-packages (from typer<1.0.0,>=0.3.0->spacy<3.8.0,>=3.7.2->en-core-web-sm==3.7.1) (1.5.4)\n",
      "Requirement already satisfied: rich>=10.11.0 in c:\\users\\mudasser.qayyom\\appdata\\local\\anaconda3\\lib\\site-packages (from typer<1.0.0,>=0.3.0->spacy<3.8.0,>=3.7.2->en-core-web-sm==3.7.1) (13.3.5)\n",
      "Requirement already satisfied: cloudpathlib<1.0.0,>=0.7.0 in c:\\users\\mudasser.qayyom\\appdata\\local\\anaconda3\\lib\\site-packages (from weasel<0.5.0,>=0.1.0->spacy<3.8.0,>=3.7.2->en-core-web-sm==3.7.1) (0.19.0)\n",
      "Requirement already satisfied: smart-open<8.0.0,>=5.2.1 in c:\\users\\mudasser.qayyom\\appdata\\local\\anaconda3\\lib\\site-packages (from weasel<0.5.0,>=0.1.0->spacy<3.8.0,>=3.7.2->en-core-web-sm==3.7.1) (5.2.1)\n",
      "Requirement already satisfied: MarkupSafe>=2.0 in c:\\users\\mudasser.qayyom\\appdata\\local\\anaconda3\\lib\\site-packages (from jinja2->spacy<3.8.0,>=3.7.2->en-core-web-sm==3.7.1) (2.1.3)\n",
      "Requirement already satisfied: marisa-trie>=0.7.7 in c:\\users\\mudasser.qayyom\\appdata\\local\\anaconda3\\lib\\site-packages (from language-data>=1.2->langcodes<4.0.0,>=3.2.0->spacy<3.8.0,>=3.7.2->en-core-web-sm==3.7.1) (1.2.0)\n",
      "Requirement already satisfied: markdown-it-py<3.0.0,>=2.2.0 in c:\\users\\mudasser.qayyom\\appdata\\local\\anaconda3\\lib\\site-packages (from rich>=10.11.0->typer<1.0.0,>=0.3.0->spacy<3.8.0,>=3.7.2->en-core-web-sm==3.7.1) (2.2.0)\n",
      "Requirement already satisfied: pygments<3.0.0,>=2.13.0 in c:\\users\\mudasser.qayyom\\appdata\\local\\anaconda3\\lib\\site-packages (from rich>=10.11.0->typer<1.0.0,>=0.3.0->spacy<3.8.0,>=3.7.2->en-core-web-sm==3.7.1) (2.15.1)\n",
      "Requirement already satisfied: mdurl~=0.1 in c:\\users\\mudasser.qayyom\\appdata\\local\\anaconda3\\lib\\site-packages (from markdown-it-py<3.0.0,>=2.2.0->rich>=10.11.0->typer<1.0.0,>=0.3.0->spacy<3.8.0,>=3.7.2->en-core-web-sm==3.7.1) (0.1.0)\n",
      "\u001b[38;5;2m[+] Download and installation successful\u001b[0m\n",
      "You can now load the package via spacy.load('en_core_web_sm')\n"
     ]
    }
   ],
   "source": [
    "#Download the spaCy Model\n",
    "\n",
    "!python -m spacy download en_core_web_sm"
   ]
  },
  {
   "cell_type": "code",
   "execution_count": 58,
   "id": "01c87aca-80d4-4b41-982f-8d1caf37112c",
   "metadata": {},
   "outputs": [],
   "source": [
    "import re\n",
    "import spacy\n",
    "\n",
    "# Load the spaCy model\n",
    "nlp = spacy.load('en_core_web_sm')\n",
    "\n",
    "def clean_text_spacy(text):\n",
    "\n",
    "    # Convert to lowercase\n",
    "    text = text.lower()\n",
    "    \n",
    "    # Remove punctuation and numbers (keep only letters and spaces)\n",
    "    text = re.sub(r'[^\\w\\s]', '', text)\n",
    "    \n",
    "    # Process the text with spaCy\n",
    "    doc = nlp(text)\n",
    "    \n",
    "    # Remove stop words and punctuation\n",
    "    cleaned_text = ' '.join([token.text for token in doc if not token.is_stop and not token.is_punct])\n",
    "    \n",
    "    return cleaned_text\n",
    "\n",
    "# Example usage\n",
    "df_upsampled['cleaned_text'] = df_upsampled['text'].apply(clean_text_spacy)"
   ]
  },
  {
   "cell_type": "code",
   "execution_count": null,
   "id": "8677c6f4-54b7-43e6-b573-db35b8c26b12",
   "metadata": {},
   "outputs": [],
   "source": [
    "# 2. Tokenization\n",
    "# Convert the cleaned text into sequences of tokens (words)."
   ]
  },
  {
   "cell_type": "code",
   "execution_count": 60,
   "id": "f99c0e2e-8e41-4a54-8465-ca65bacf8e73",
   "metadata": {},
   "outputs": [],
   "source": [
    "df = df_upsampled.drop(['text'], axis=1)"
   ]
  },
  {
   "cell_type": "code",
   "execution_count": 62,
   "id": "c62ae180-8e5a-4c56-8d08-b6740ae1ec09",
   "metadata": {},
   "outputs": [],
   "source": [
    "# df"
   ]
  },
  {
   "cell_type": "code",
   "execution_count": 64,
   "id": "8aee1e05-ae8b-4d42-b654-aa8325db3a12",
   "metadata": {},
   "outputs": [],
   "source": [
    "from tensorflow.keras.preprocessing.text import Tokenizer\n",
    "from tensorflow.keras.preprocessing.sequence import pad_sequences\n",
    "\n",
    "tokenizer = Tokenizer()\n",
    "tokenizer.fit_on_texts(df_upsampled['cleaned_text'])\n",
    "sequences = tokenizer.texts_to_sequences(df_upsampled['cleaned_text'])"
   ]
  },
  {
   "cell_type": "markdown",
   "id": "668edd73-0285-4b39-9466-48e3ce157e1e",
   "metadata": {},
   "source": [
    "# 3. Padding Sequences\n",
    "# Ensure all sequences have the same length by padding them."
   ]
  },
  {
   "cell_type": "code",
   "execution_count": 66,
   "id": "b991b85c-59dd-4ecb-bc27-7ca510fefbc7",
   "metadata": {},
   "outputs": [],
   "source": [
    "maxlen = 100  # Define the maximum length of sequences\n",
    "X = pad_sequences(sequences, maxlen=maxlen)"
   ]
  },
  {
   "cell_type": "code",
   "execution_count": 67,
   "id": "b4e46586-fd3b-46f3-82f8-c0966ba08297",
   "metadata": {},
   "outputs": [],
   "source": [
    "# 4. Preparing Labels\n",
    "# Prepare your labels (sentiments) for model training."
   ]
  },
  {
   "cell_type": "code",
   "execution_count": 68,
   "id": "bbe4499d-5d21-454b-b155-7486f7ecf110",
   "metadata": {},
   "outputs": [],
   "source": [
    "y = df_upsampled['label']"
   ]
  },
  {
   "cell_type": "markdown",
   "id": "aff7ae58-682e-42f1-a325-d9f4f74ce2aa",
   "metadata": {},
   "source": [
    "# 4. Load Pre-trained Word2Vec Embeddings\n",
    "# Use pre-trained Word2Vec embeddings to create an embedding matrix."
   ]
  },
  {
   "cell_type": "code",
   "execution_count": 74,
   "id": "93f7ab20-c70c-4964-b669-126b707015be",
   "metadata": {},
   "outputs": [],
   "source": [
    "import numpy as np\n",
    "from gensim.models import KeyedVectors\n",
    "\n",
    "# Load pre-trained Word2Vec model\n",
    "word2vec_model = KeyedVectors.load_word2vec_format(r'C:\\Users\\Mudasser.Qayyom\\Downloads\\LSTM_P\\LSTM_P - Copy\\GoogleNews-vectors-negative300.bin', binary=True)\n",
    "\n",
    "# Create an embedding matrix\n",
    "embedding_dim = 300  # Dimensionality of the Word2Vec embeddings\n",
    "word_index = tokenizer.word_index\n",
    "embedding_matrix = np.zeros((len(word_index) + 1, embedding_dim))\n",
    "\n",
    "for word, i in word_index.items():\n",
    "    if word in word2vec_model:\n",
    "        embedding_vector = word2vec_model[word]\n",
    "        embedding_matrix[i] = embedding_vector\n"
   ]
  },
  {
   "cell_type": "code",
   "execution_count": 75,
   "id": "6fdce712-ba14-463b-858d-5e5e65bcc79d",
   "metadata": {},
   "outputs": [
    {
     "data": {
      "text/plain": [
       "(44106,)"
      ]
     },
     "execution_count": 75,
     "metadata": {},
     "output_type": "execute_result"
    }
   ],
   "source": [
    "y.shape"
   ]
  },
  {
   "cell_type": "code",
   "execution_count": 76,
   "id": "e8936dfa-2a63-4f22-9940-4aa85dca7697",
   "metadata": {},
   "outputs": [
    {
     "data": {
      "text/plain": [
       "(44106, 100)"
      ]
     },
     "execution_count": 76,
     "metadata": {},
     "output_type": "execute_result"
    }
   ],
   "source": [
    "X.shape"
   ]
  },
  {
   "cell_type": "code",
   "execution_count": 80,
   "id": "5e14e8bf-f4f1-4636-b14e-713b37574c20",
   "metadata": {},
   "outputs": [],
   "source": [
    "# 6. Building the LSTM Model\n",
    "# Define and compile your LSTM model using the embedding matrix."
   ]
  },
  {
   "cell_type": "markdown",
   "id": "92021e05-e126-47d9-ac52-3e3c6d79dd18",
   "metadata": {},
   "source": [
    "# Increase LSTM Units or Stack LSTM Layers"
   ]
  },
  {
   "cell_type": "code",
   "execution_count": 83,
   "id": "0430ae66-5ef1-46bf-8285-55e2cfa51d42",
   "metadata": {},
   "outputs": [],
   "source": [
    "from tensorflow.keras.models import Sequential\n",
    "from tensorflow.keras.layers import Embedding, LSTM, Dense, Dropout\n",
    "\n",
    "# # model.add(Embedding(input_dim=len(word_index) + 1, output_dim=embedding_dim, weights=[embedding_matrix], input_length=maxlen, trainable=False))\n",
    "\n",
    "\n",
    "# model = Sequential()\n",
    "# model.add(Embedding(input_dim=len(word_index) + 1, output_dim=embedding_dim, weights=[embedding_matrix], trainable=False))\n",
    "# model.add(LSTM(128, return_sequences=True))  # First LSTM layer\n",
    "# model.add(Dropout(0.3))  # Dropout\n",
    "# model.add(LSTM(64))  # Second LSTM layer\n",
    "# model.add(Dense(64, activation='relu'))  # Dense layer\n",
    "# model.add(Dropout(0.3))  # Dropout\n",
    "# model.add(Dense(units=6, activation='softmax'))  # Output layer\n",
    "\n",
    "# model.compile(optimizer='adam', loss='sparse_categorical_crossentropy', metrics=['accuracy'])"
   ]
  },
  {
   "cell_type": "markdown",
   "id": "c67f1d4a-34eb-4a3c-b13f-8e5b70ab809b",
   "metadata": {},
   "source": [
    "# Bidirectional LSTM"
   ]
  },
  {
   "cell_type": "code",
   "execution_count": 86,
   "id": "712aab0b-cabf-43c3-b5e0-7c664b700a4d",
   "metadata": {},
   "outputs": [],
   "source": [
    "\n",
    "from keras.layers import Bidirectional\n",
    "\n",
    "model = Sequential()\n",
    "model.add(Embedding(input_dim=len(word_index) + 1, output_dim=embedding_dim, weights=[embedding_matrix], trainable=False))\n",
    "model.add(Bidirectional(LSTM(128)))  # Bidirectional LSTM\n",
    "model.add(Dense(64, activation='relu'))  # Dense layer\n",
    "model.add(Dropout(0.3))  # Dropout layer\n",
    "model.add(Dense(units=6, activation='softmax'))  # Output layer\n",
    "\n",
    "model.compile(optimizer='adam', loss='sparse_categorical_crossentropy', metrics=['accuracy'])\n"
   ]
  },
  {
   "cell_type": "code",
   "execution_count": 88,
   "id": "e8954251-87dc-4269-83d1-cc773963b58a",
   "metadata": {},
   "outputs": [
    {
     "name": "stdout",
     "output_type": "stream",
     "text": [
      "Epoch 1/5\n",
      "\u001b[1m552/552\u001b[0m \u001b[32m━━━━━━━━━━━━━━━━━━━━\u001b[0m\u001b[37m\u001b[0m \u001b[1m84s\u001b[0m 139ms/step - accuracy: 0.5769 - loss: 1.0558 - val_accuracy: 0.1543 - val_loss: 6.9486\n",
      "Epoch 2/5\n",
      "\u001b[1m552/552\u001b[0m \u001b[32m━━━━━━━━━━━━━━━━━━━━\u001b[0m\u001b[37m\u001b[0m \u001b[1m81s\u001b[0m 136ms/step - accuracy: 0.9132 - loss: 0.2644 - val_accuracy: 0.1550 - val_loss: 9.6903\n",
      "Epoch 3/5\n",
      "\u001b[1m552/552\u001b[0m \u001b[32m━━━━━━━━━━━━━━━━━━━━\u001b[0m\u001b[37m\u001b[0m \u001b[1m76s\u001b[0m 138ms/step - accuracy: 0.9472 - loss: 0.1500 - val_accuracy: 0.1538 - val_loss: 10.1286\n",
      "Epoch 4/5\n",
      "\u001b[1m552/552\u001b[0m \u001b[32m━━━━━━━━━━━━━━━━━━━━\u001b[0m\u001b[37m\u001b[0m \u001b[1m82s\u001b[0m 137ms/step - accuracy: 0.9587 - loss: 0.1132 - val_accuracy: 0.1606 - val_loss: 11.9702\n",
      "Epoch 5/5\n",
      "\u001b[1m552/552\u001b[0m \u001b[32m━━━━━━━━━━━━━━━━━━━━\u001b[0m\u001b[37m\u001b[0m \u001b[1m76s\u001b[0m 137ms/step - accuracy: 0.9641 - loss: 0.0965 - val_accuracy: 0.1601 - val_loss: 12.7326\n"
     ]
    },
    {
     "data": {
      "text/plain": [
       "<keras.src.callbacks.history.History at 0x24b2fc41970>"
      ]
     },
     "execution_count": 88,
     "metadata": {},
     "output_type": "execute_result"
    }
   ],
   "source": [
    "model.fit(X, y, epochs=5, batch_size=64, validation_split=0.2)"
   ]
  },
  {
   "cell_type": "code",
   "execution_count": 90,
   "id": "7b430bc9-53a1-4cd2-8b8e-942acb2acacc",
   "metadata": {},
   "outputs": [
    {
     "name": "stdout",
     "output_type": "stream",
     "text": [
      "\u001b[1m1379/1379\u001b[0m \u001b[32m━━━━━━━━━━━━━━━━━━━━\u001b[0m\u001b[37m\u001b[0m \u001b[1m39s\u001b[0m 28ms/step\n"
     ]
    }
   ],
   "source": [
    "predication =  model.predict(X)"
   ]
  },
  {
   "cell_type": "markdown",
   "id": "5496533d-81e5-4540-b349-7bf536af27ca",
   "metadata": {},
   "source": [
    "# Summary of Preprocessing Steps:"
   ]
  },
  {
   "cell_type": "code",
   "execution_count": 93,
   "id": "00b11826-b3be-4ff0-a867-959cbdbc6eea",
   "metadata": {},
   "outputs": [],
   "source": [
    "# Clean the Text: Remove noise and standardize the text.\n",
    "# Tokenize: Convert text into sequences of tokens.\n",
    "# Pad Sequences: Ensure uniform input size for LSTM.\n",
    "# Prepare Labels: Convert labels to a format suitable for model training.\n",
    "# Load Word2Vec Embeddings: Create an embedding matrix for your tokenizer.\n",
    "# Build the LSTM Model: Define and compile the LSTM model with the embedding matrix.\n",
    "# Train the Model: Fit the model on your data.\n",
    "# These steps will help you preprocess your text data and build an LSTM model with pre-trained Word2Vec embeddings. If you have any questions or need further clarification, feel free to ask!"
   ]
  },
  {
   "cell_type": "markdown",
   "id": "93550b76-a482-4261-aa01-deb61d67fb51",
   "metadata": {},
   "source": [
    "# Steps to Test Your Model"
   ]
  },
  {
   "cell_type": "code",
   "execution_count": 104,
   "id": "cf5406ca-c55c-44b3-a786-63fe970afb3a",
   "metadata": {},
   "outputs": [],
   "source": [
    "# Example statement\n",
    "\n",
    "#text = \"I feel like everything is falling apart, and I don't know how to fix it!\"\n",
    "#text = \"I can't believe you lied to me! I'm so furious right now!\"\n",
    "text = \"I never thought I would feel so alone in a room full of people.\"\n",
    "\n",
    "\n",
    "cleaned_text = clean_text_spacy(text)\n",
    "\n",
    "\n",
    "# Convert text to sequence\n",
    "sequence = tokenizer.texts_to_sequences([cleaned_text])\n",
    "\n",
    "# Pad sequences to ensure they match the input shape\n",
    "max_sequence_length = 100  # Use the same max_sequence_length used during training\n",
    "padded_sequence = pad_sequences(sequence, maxlen=max_sequence_length)"
   ]
  },
  {
   "cell_type": "code",
   "execution_count": 106,
   "id": "92d3e271-6c6b-4602-a594-8e12f01c9151",
   "metadata": {},
   "outputs": [
    {
     "name": "stdout",
     "output_type": "stream",
     "text": [
      "\u001b[1m1/1\u001b[0m \u001b[32m━━━━━━━━━━━━━━━━━━━━\u001b[0m\u001b[37m\u001b[0m \u001b[1m0s\u001b[0m 79ms/step\n"
     ]
    }
   ],
   "source": [
    "# Make prediction\n",
    "predictions = model.predict(padded_sequence)\n",
    "\n",
    "# Get the predicted class\n",
    "predicted_class = predictions.argmax(axis=-1)  # For multi-class classification"
   ]
  },
  {
   "cell_type": "code",
   "execution_count": 108,
   "id": "5cdd6a06-18d2-4a20-99b5-5fa88bb5471f",
   "metadata": {},
   "outputs": [
    {
     "name": "stdout",
     "output_type": "stream",
     "text": [
      "The emotion for the statement 'I never thought I would feel so alone in a room full of people.' is: sadness\n"
     ]
    }
   ],
   "source": [
    "# Map the predicted class to the actual emotion label\n",
    "# Define a mapping from class indices to labels\n",
    "class_labels = {0: 'sadness', 1: 'joy', 2: 'love', 3: 'anger', 4: 'fear', 5: 'surprise'}\n",
    "predicted_emotion = class_labels[predicted_class[0]]\n",
    "\n",
    "print(f\"The emotion for the statement '{text}' is: {predicted_emotion}\")"
   ]
  },
  {
   "cell_type": "code",
   "execution_count": null,
   "id": "6253dbad-370d-42ee-a197-075139d3d462",
   "metadata": {},
   "outputs": [],
   "source": []
  },
  {
   "cell_type": "code",
   "execution_count": null,
   "id": "da8bd36c-597a-4ac9-a15a-293df05ae7f8",
   "metadata": {},
   "outputs": [],
   "source": []
  },
  {
   "cell_type": "code",
   "execution_count": null,
   "id": "4c04a3b5-1257-468e-a50e-3e1ae1da87ca",
   "metadata": {},
   "outputs": [],
   "source": []
  },
  {
   "cell_type": "code",
   "execution_count": null,
   "id": "3f8fac0c-4554-4d90-946a-78551ef9a8b6",
   "metadata": {},
   "outputs": [],
   "source": []
  },
  {
   "cell_type": "code",
   "execution_count": null,
   "id": "f1bc3773-b1e7-40e1-a486-1e2065e0503b",
   "metadata": {},
   "outputs": [],
   "source": []
  }
 ],
 "metadata": {
  "kernelspec": {
   "display_name": "Python 3 (ipykernel)",
   "language": "python",
   "name": "python3"
  },
  "language_info": {
   "codemirror_mode": {
    "name": "ipython",
    "version": 3
   },
   "file_extension": ".py",
   "mimetype": "text/x-python",
   "name": "python",
   "nbconvert_exporter": "python",
   "pygments_lexer": "ipython3",
   "version": "3.12.4"
  }
 },
 "nbformat": 4,
 "nbformat_minor": 5
}
